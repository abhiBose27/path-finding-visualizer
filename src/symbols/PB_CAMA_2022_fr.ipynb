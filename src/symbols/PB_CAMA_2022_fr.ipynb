{
 "cells": [
  {
   "cell_type": "markdown",
   "metadata": {
    "lang": "fr"
   },
   "source": [
    "# Rattrapage CAMA 2022\n",
    "\n",
    "Voici le sujet, les réponses doivent être écrite dans le Moodle.\n",
    "\n",
    "Vous avez aussi une version `ipynb` du sujet afin de pouvoir écrire vos réponses au fur et à mesure puis\n",
    "recopier les réponses complètes avec leur dépendances dans le Moodle.\n",
    "\n",
    "#### Règles\n",
    "\n",
    "* Vous ne devez pas faire d'`import`. `import numpy as np` est déja fait globalement.\n",
    "* Pas d'utilisation de `linalg`\n",
    "* Pas de `if`, `while` ou de `for` sauf s'il est indiqué qu'on peut.\n",
    "* Pas de récursion.\n",
    "\n",
    "Je vérfie les interdits par une recherche dans votre code. Si je trouve, c'est 0. Donc ne prenez pas de noms de variable qui comprennent les mots interdits."
   ]
  },
  {
   "cell_type": "markdown",
   "metadata": {
    "lang": "fr"
   },
   "source": [
    "## Problème\n",
    "\n",
    "Soit un vecteur $\\bf v$, on définit la matrice T ainsi :\n",
    "\n",
    "$$T =  Id - 2 \\, \\frac{{\\bf v}\\,{\\bf v}^T}{||{\\bf v}||^2} \\quad \\quad (1)$$\n",
    "\n",
    "Avec $Id$ la matrice identité.\n",
    "\n",
    "Soit une matrice A. On définit `c0 = A[:,0]`.\n",
    "\n",
    "On pose \n",
    "\n",
    "$$ {\\bf v_0} = {\\bf c_0} - \n",
    "\\begin{bmatrix}\n",
    "|| {\\bf c_0} || \\\\\n",
    "0 \\\\\n",
    "\\vdots \\\\\n",
    "0\n",
    "\\end{bmatrix}\n",
    "$$\n",
    "\n",
    "On obtient ainsi\n",
    "$$T_0 =  Id - 2 \\, \\frac{{\\bf v_0}\\,{\\bf v_0}^T}{||{\\bf v_0}||^2}$$"
   ]
  },
  {
   "cell_type": "markdown",
   "metadata": {
    "lang": "fr"
   },
   "source": [
    "* Prendre une matrice A 5x5 aléatoire."
   ]
  },
  {
   "cell_type": "code",
   "execution_count": null,
   "metadata": {},
   "outputs": [],
   "source": []
  },
  {
   "cell_type": "markdown",
   "metadata": {
    "lang": "fr"
   },
   "source": [
    "* Calculer $T_0$ et vérifier que $T_0 \\, A$ met des zéros dans la première colonne sauf à la première ligne."
   ]
  },
  {
   "cell_type": "code",
   "execution_count": null,
   "metadata": {},
   "outputs": [],
   "source": []
  },
  {
   "cell_type": "markdown",
   "metadata": {
    "lang": "fr"
   },
   "source": [
    "On appelle `Res` le résultat de $T_0 \\, A$.\n",
    "\n",
    "* En prenant `c1` comme étant la partie en dessous de la diagonale de la 2e colonne (diagonale comprise) de `Res`, calculer $T_1$. Cette matrice est plus petite en taille que $T_0$.\n",
    "* Calculer le produit $T_1$ `Res[1:, 1:]` et vérifier que le nouveau `Res` a des zéros sous\n",
    "la diagonale strictement pour les 2 premières colonnes."
   ]
  },
  {
   "cell_type": "code",
   "execution_count": null,
   "metadata": {},
   "outputs": [],
   "source": []
  },
  {
   "cell_type": "markdown",
   "metadata": {
    "lang": "fr"
   },
   "source": [
    "* Comme T1 est plus petit, ainsi que les $T_i$ qui suivent, écrire la fonction `resize_mat(T,n)` qui agrandit $T$\n",
    "pour qu'il soit de taille $n \\times n$ avec des 1 sur la diagonale en haut à gauche et T en bas à droite.\n",
    "Par exemple pour $T_2$ on a :\n",
    "\n",
    "$$\n",
    "\\hat{T_2} = \n",
    "\\begin{bmatrix}\n",
    "\\begin{array}{cc}\n",
    "1 & 0  \\\\\n",
    "0 & 1 \n",
    "\\end{array}  & 0 \\\\\n",
    "0 & {\\Huge T_2}\n",
    "\\end{bmatrix}\n",
    "$$\n",
    "                                                                                           "
   ]
  },
  {
   "cell_type": "code",
   "execution_count": null,
   "metadata": {},
   "outputs": [],
   "source": []
  },
  {
   "cell_type": "markdown",
   "metadata": {
    "lang": "fr"
   },
   "source": [
    "### Question 1\n",
    "\n",
    "Indiquer la ou les propriété(s) de la matrice $\\hat{T_{n-1}} \\, \\hat{T_{n-2}} \\, \\dots \\, \\hat{T_1} \\, T_0 \\, A$. Elle est \n",
    "\n",
    "* Triangulaire\n",
    "* Tri-diagonale\n",
    "* Symétrique\n",
    "* Orthogonale\n"
   ]
  },
  {
   "cell_type": "markdown",
   "metadata": {
    "lang": "fr"
   },
   "source": [
    "### Question 2\n",
    "\n",
    "Ecrire la fonction `compute_T(A, i)` qui retourne $T$ tel qu'il est définit en (1) avec $i$ la i-ème colonne de la matrice A. Attention il ne faut prendre que ce qui est en dessous de la diagonale, diagonale incluse donc T est de taille égale ou inférieure à A."
   ]
  },
  {
   "cell_type": "code",
   "execution_count": null,
   "metadata": {},
   "outputs": [],
   "source": []
  },
  {
   "cell_type": "markdown",
   "metadata": {
    "lang": "fr"
   },
   "source": [
    "### Question 3\n",
    "\n",
    "Tester différents cas et indiquer la ou les propriété(s) des matrices que retourne `compute_T`.\n",
    "\n",
    "* Triangulaire\n",
    "* Tri-diagonale\n",
    "* Symétrique\n",
    "* Orthogonale"
   ]
  },
  {
   "cell_type": "code",
   "execution_count": null,
   "metadata": {},
   "outputs": [],
   "source": []
  },
  {
   "cell_type": "markdown",
   "metadata": {
    "lang": "fr"
   },
   "source": [
    "### Question 4\n",
    "\n",
    "Écrire la fonction `solve(A, b)` qui retourne **x** solution du système matrice $A {\\bf x} = {\\bf b}$ \n",
    "en utilisant la méthode `compute_T`. La fonction doit marcher pour toute taille $n \\times n$ de matrice A.\n",
    "\n",
    "On pourra utiliser **2** boucles `for`. Il n'est pas nécessaire d'utiliser `resize_mat` pour écrire cette fonction."
   ]
  },
  {
   "cell_type": "code",
   "execution_count": null,
   "metadata": {},
   "outputs": [],
   "source": []
  },
  {
   "cell_type": "markdown",
   "metadata": {
    "lang": "fr"
   },
   "source": [
    "### Question 5\n",
    "\n",
    "Écrire la fonction `decompose(A)` qui retourne 2 matrices :\n",
    "\n",
    "* le résultat $T_{n-1} \\, T_{n-2} \\, \\dots \\, T_1 \\, T_0 \\, A$ avec la remarque faite ci-dessus\n",
    "* l'inverse de l'ensemble des transformations faites à A\n",
    "\n",
    "Ainsi si `decompose` retourne U et V alors $A = V \\, U$.\n",
    "\n",
    "On pourra utiliser **1** boucle `for`. Il est nécessaire d'utiliser `resize_mat` pour cette écrire cette fonction."
   ]
  },
  {
   "cell_type": "code",
   "execution_count": null,
   "metadata": {},
   "outputs": [],
   "source": []
  },
  {
   "cell_type": "markdown",
   "metadata": {
    "lang": "fr"
   },
   "source": [
    "### Question 6\n",
    "\n",
    "Indiquer la ou les propriété(s) de ma matrice V (2e matrice retournée par `decompose`) :\n",
    "\n",
    "* Triangulaire\n",
    "* Tri-diagonale\n",
    "* Symétrique\n",
    "* Orthogonale"
   ]
  },
  {
   "cell_type": "code",
   "execution_count": null,
   "metadata": {},
   "outputs": [],
   "source": []
  }
 ],
 "metadata": {
  "kernelspec": {
   "display_name": "Python 3 (ipykernel)",
   "language": "python",
   "name": "python3"
  },
  "language_info": {
   "codemirror_mode": {
    "name": "ipython",
    "version": 3
   },
   "file_extension": ".py",
   "mimetype": "text/x-python",
   "name": "python",
   "nbconvert_exporter": "python",
   "pygments_lexer": "ipython3",
   "version": "3.8.10"
  },
  "nbTranslate": {
   "displayLangs": [
    "fr",
    "en"
   ],
   "hotkey": "alt-t",
   "langInMainMenu": true,
   "sourceLang": "fr",
   "targetLang": "en",
   "useGoogleTranslate": true
  }
 },
 "nbformat": 4,
 "nbformat_minor": 2
}
