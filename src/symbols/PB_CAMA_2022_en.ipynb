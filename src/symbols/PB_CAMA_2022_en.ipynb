{
 "cells": [
  {
   "cell_type": "markdown",
   "metadata": {
    "lang": "en"
   },
   "source": [
    "# CAMA 2022 second chance\n",
    "\n",
    "Here is the subject, the answers must be written in the Moodle.\n",
    "\n",
    "You also have an `ipynb` version of the subject so that you can write your answers as you go along\n",
    "copy the complete answers with their dependencies in the Moodle.\n",
    "\n",
    "#### Rules\n",
    "\n",
    "* You should not do any `import`.  `import numpy as np` is already done globally.\n",
    "* You should not use `linalg`\n",
    "* No `if`, `while` or` for` unless it says you can.\n",
    "* No recursion.\n",
    "\n",
    "I verify the prohibitions by a search in your code. If I find it, it's 0. So don't take variable names that include forbidden words."
   ]
  },
  {
   "cell_type": "markdown",
   "metadata": {
    "lang": "en"
   },
   "source": [
    "## Problem\n",
    "\n",
    "Let be a vector $\\bf v$, we define the matrix T as follows:\n",
    "\n",
    "$$T =  Id - 2 \\, \\frac{{\\bf v}\\,{\\bf v}^T}{||{\\bf v}||^2} \\quad \\quad (1)$$\n",
    "\n",
    "With $Id$ the identity matrix.\n",
    "\n",
    "Let be a matrix A. We define `c0 = A[:, 0]`.\n",
    "\n",
    "We pose\n",
    "\n",
    "$$ {\\bf v_0} = {\\bf c_0} - \n",
    "\\begin{bmatrix}\n",
    "|| {\\bf c_0} || \\\\\n",
    "0 \\\\\n",
    "\\vdots \\\\\n",
    "0\n",
    "\\end{bmatrix}\n",
    "$$\n",
    "\n",
    "We thus obtain\n",
    "$$T_0 =  Id - 2 \\, \\frac{{\\bf v_0}\\,{\\bf v_0}^T}{||{\\bf v_0}||^2}$$"
   ]
  },
  {
   "cell_type": "markdown",
   "metadata": {
    "lang": "en"
   },
   "source": [
    "* Take a random 5x5 matrix A."
   ]
  },
  {
   "cell_type": "code",
   "execution_count": 133,
   "metadata": {},
   "outputs": [
    {
     "name": "stdout",
     "output_type": "stream",
     "text": [
      "[[0.61219313 0.69378367 0.77945471 0.14334431 0.83201333]\n",
      " [0.3802645  0.71282613 0.7714887  0.4718956  0.23969207]\n",
      " [0.89210066 0.80997549 0.99828359 0.74780678 0.85694778]\n",
      " [0.54954485 0.01845068 0.32660706 0.16056691 0.93154366]\n",
      " [0.90644717 0.90723898 0.7932067  0.51737412 0.82397993]]\n"
     ]
    }
   ],
   "source": [
    "import numpy as np\n",
    "A = np.random.rand(5, 5)\n",
    "print(A)\n",
    "c = 1\n",
    "#print(A[3:5, 3:5])"
   ]
  },
  {
   "cell_type": "markdown",
   "metadata": {
    "lang": "en"
   },
   "source": [
    "* Calculate $T_0$ and verify that $T_0 \\, A$ puts zeros in the first column except the first line."
   ]
  },
  {
   "cell_type": "code",
   "execution_count": 89,
   "metadata": {},
   "outputs": [
    {
     "name": "stdout",
     "output_type": "stream",
     "text": [
      "[[ 6.08276253  9.69954025  4.60317164  6.24716152 11.50792911]\n",
      " [ 0.         -0.86039121  5.80167838 -0.73886216  2.87381217]\n",
      " [ 0.          1.13960879  0.80167838  5.26113784  5.87381217]\n",
      " [ 0.         -0.15097804 -0.49580404  2.15284461  0.18453041]\n",
      " [ 0.          3.13960879  6.80167838  2.26113784 -3.12618783]]\n"
     ]
    }
   ],
   "source": [
    "\n",
    "def findNorm(v):\n",
    "    return np.sqrt(sum(np.square(v)))\n",
    "\n",
    "def calcv0(A):\n",
    "    c0 = A[:, 0]\n",
    "    norm_c0 = findNorm(c0)\n",
    "    x = np.zeros(5)\n",
    "    x[0] = norm_c0\n",
    "    return c0 - x\n",
    "\n",
    "def calcT0(A):\n",
    "    id = np.identity(5)\n",
    "    v0 = calcv0(A)\n",
    "    t0 = id - 2 * (np.dot(v0[:, None], v0[None, :]) / sum(np.square(v0)))\n",
    "    return np.matmul(t0, A)\n",
    "\n",
    "Res = calcT0(A)\n",
    "print(Res)\n",
    "\n",
    "\n",
    "\n"
   ]
  },
  {
   "cell_type": "markdown",
   "metadata": {
    "lang": "en"
   },
   "source": [
    "We call `Res` the result of $T_0 \\, A$.\n",
    "\n",
    "* Taking `c1` as the part below the diagonal of the 2nd column (including the diagonal) of` Res`, calculate $T_1$. This matrix is smaller in size than $T_0$.\n",
    "* Compute multiplication $T_1$`Res [1 :, 1:]` and check that the new `Res` has zeros under the diagonal strictly for the first 2 columns."
   ]
  },
  {
   "cell_type": "code",
   "execution_count": 94,
   "metadata": {},
   "outputs": [
    {
     "name": "stdout",
     "output_type": "stream",
     "text": [
      "[[ 3.45237873e+00  5.02591190e+00  3.88294751e+00 -1.62833283e+00]\n",
      " [ 1.11022302e-16  1.00666736e+00  4.03986823e+00  7.06346152e+00]\n",
      " [-2.77555756e-17 -5.22961457e-01  2.31464127e+00  2.69228855e-02]\n",
      " [ 4.44089210e-16  7.36642061e+00 -1.10344557e+00  1.51282130e-01]]\n"
     ]
    }
   ],
   "source": [
    "def calcv1(Res, c):\n",
    "    c1 = Res[c:,c]\n",
    "    norm_c1 = findNorm(c1)\n",
    "    x = np.zeros(len(c1))\n",
    "    x[0] = norm_c1\n",
    "    return c1 - x\n",
    "def calcT1(Res, c):\n",
    "    v1 = calcv1(Res, c)\n",
    "    id = np.identity(len(v1))\n",
    "    t1 = id - 2 * (np.dot(v1[:, None], v1[None, :]) / sum(np.square(v1)))\n",
    "    return t1 @ Res[1 :, 1:]\n",
    "    \n",
    "print(calcT1(Res, 1))"
   ]
  },
  {
   "cell_type": "markdown",
   "metadata": {
    "lang": "en"
   },
   "source": [
    "* As T1 is smaller, as well as the $T_i$ which follow, write the function `resize_mat(T, n)` which enlarges $T$\n",
    "so that it is of size $n \\times n$ with 1 on the diagonal in the top left and T in the bottom right.\n",
    "For example for $T_2$ we have:\n",
    "\n",
    "$$\n",
    "\\hat{T_2} = \n",
    "\\begin{bmatrix}\n",
    "\\begin{array}{cc}\n",
    "1 & 0  \\\\\n",
    "0 & 1 \n",
    "\\end{array}  & 0 \\\\\n",
    "0 & {\\Huge T_2}\n",
    "\\end{bmatrix}\n",
    "$$"
   ]
  },
  {
   "cell_type": "code",
   "execution_count": 113,
   "metadata": {},
   "outputs": [
    {
     "name": "stdout",
     "output_type": "stream",
     "text": [
      "[[ 1.          0.          0.          0.          0.          0.        ]\n",
      " [ 0.          6.08276253  9.69954025  4.60317164  6.24716152 11.50792911]\n",
      " [ 0.          0.         -0.86039121  5.80167838 -0.73886216  2.87381217]\n",
      " [ 0.          0.          1.13960879  0.80167838  5.26113784  5.87381217]\n",
      " [ 0.          0.         -0.15097804 -0.49580404  2.15284461  0.18453041]\n",
      " [ 0.          0.          3.13960879  6.80167838  2.26113784 -3.12618783]]\n"
     ]
    }
   ],
   "source": [
    "def resize_mat(T, n):\n",
    "    id = np.identity(n)\n",
    "    id[n-len(T): n, n-len(T[0]):n] = T\n",
    "    return id\n",
    "\n",
    "print(resize_mat(Res, 6))\n"
   ]
  },
  {
   "cell_type": "markdown",
   "metadata": {
    "lang": "en"
   },
   "source": [
    "### Question 1\n",
    "\n",
    "Indicate the property(s) of the $\\hat{T_{n-1}} \\, \\hat{T_{n-2}} \\, \\dots \\, \\hat{T_1} \\, T_0 \\, A$ matrix. It is\n",
    "\n",
    "* Triangular\n",
    "* Tri-diagonal\n",
    "* Symmetrical\n",
    "* Orthogonal"
   ]
  },
  {
   "cell_type": "markdown",
   "metadata": {
    "lang": "en"
   },
   "source": [
    "### Question 2\n",
    "\n",
    "Write the function `compute_T(A, i)` which returns $T$ as it is defined in (1) with $i$ the i-th column of the matrix A. Attention you must only take what is below the diagonal , diagonal included so T is equal to or smaller than A."
   ]
  },
  {
   "cell_type": "code",
   "execution_count": 154,
   "metadata": {},
   "outputs": [
    {
     "name": "stdout",
     "output_type": "stream",
     "text": [
      "[[ 6.25754867e-01  4.19733648e-01  2.19449120e-01 -3.42968802e-01]\n",
      " [ 1.38777878e-17  1.94510293e-01 -5.16864179e-02  1.83322096e-01]\n",
      " [-4.16333634e-17 -1.85538638e-01 -1.67517215e-01 -3.34072867e-02]\n",
      " [ 2.77555756e-17 -2.05103309e-02 -3.23799798e-01  2.35940411e-01]]\n"
     ]
    }
   ],
   "source": [
    "def calcVi(A, i):\n",
    "    c = A[i:, i]\n",
    "    norm_c = findNorm(c)\n",
    "    x = np.zeros(len(c))\n",
    "    x[0] = norm_c\n",
    "    return c - x\n",
    "\n",
    "def compute_T(A, i):\n",
    "    v = calcVi(A, i)\n",
    "    id = np.identity(len(v))\n",
    "    t = id - 2 * (np.dot(v[:, None], v[None, :]) / sum(np.square(v)))\n",
    "    return t\n",
    "\n",
    "T = compute_T(A, 0)\n",
    "Res = T @ A\n",
    "Res = compute_T(Res, 1) @ Res[1:,1:]\n",
    "    \n"
   ]
  },
  {
   "cell_type": "markdown",
   "metadata": {
    "lang": "en"
   },
   "source": [
    "### Question 3\n",
    "\n",
    "Test different cases and indicate the property or properties of the matrices returned by `compute_T`.\n",
    "\n",
    "* Triangular\n",
    "* Tri-diagonal\n",
    "* Symmetrical\n",
    "* Orthogonal"
   ]
  },
  {
   "cell_type": "code",
   "execution_count": null,
   "metadata": {},
   "outputs": [],
   "source": []
  },
  {
   "cell_type": "markdown",
   "metadata": {
    "lang": "en"
   },
   "source": [
    "### Question 4\n",
    "\n",
    "Write the function `solve(A, b)` which returns **x** solution of the $A {\\bf x} = {\\bf b}$ matrix system\n",
    "using the `compute _T` method. The function must work for any size $n \\times n$ of matrix A.\n",
    "\n",
    "You can use **2** `for` loops. It is not necessary to use `resize_ mat` to write this function."
   ]
  },
  {
   "cell_type": "code",
   "execution_count": 169,
   "metadata": {},
   "outputs": [
    {
     "data": {
      "text/plain": [
       "array([-0.25,  1.  ,  0.25])"
      ]
     },
     "execution_count": 169,
     "metadata": {},
     "output_type": "execute_result"
    }
   ],
   "source": [
    "\n",
    "\n",
    "def solve_gauss(A, b):\n",
    "    A = A.astype(np.float64)   # si A a des entiers, on va avoir des erreurs de calculs\n",
    "    for i in range(len(A)-1):\n",
    "        coefs = - A[i+1:,i] / A[i,i]  # Normalement il faut tester que A[i,i] != 0\n",
    "        A[i+1:, i:] += np.outer(coefs, A[i, i:]) # ou np.einsum('i,j -> ij', coefs, A[i, i:])\n",
    "        b[i+1:] += coefs * b[i]                  # multiplication terme à terme\n",
    "    # A est maintenant triangulaire surpérieur\n",
    "    res = np.zeros(len(b), dtype=b.dtype)\n",
    "    res[-1] = b[-1] / A[-1,-1]\n",
    "    for i in range(len(A)-1)[::-1]:\n",
    "        res[i] = (b[i] - A[i,i+1:] @ res[i+1:]) / A[i,i]\n",
    "    return res\n",
    "\n",
    "def solve1(A, b):\n",
    "    Res = A\n",
    "    Resb = b\n",
    "    for i in range(len(A) - 1):\n",
    "        T = compute_T(Res, i)\n",
    "        Res = resize_mat(T, len(Res)) @ Res\n",
    "        Resb = resize_mat(T, len(Resb)) @ Resb\n",
    "    return solve_gauss(Res, Resb)\n",
    "A = A = np.array([[1.,1,1],[2,1,2],[-1,0,3]])\n",
    "\n",
    "solve1(A, np.ones(3))"
   ]
  },
  {
   "cell_type": "markdown",
   "metadata": {
    "lang": "en"
   },
   "source": [
    "### Question 5\n",
    "\n",
    "Write the function `decompose(A)` which returns 2 matrices:\n",
    "\n",
    "* the $T_{n-1} \\, T_{n-2} \\, \\dots \\, T_1 \\, T_0 \\, A$ result with the remark made above\n",
    "* the inverse of the set of transformations made at A\n",
    "\n",
    "So if `decompose` returns U and V then $A = V \\, U$.\n",
    "\n",
    "You can use **1** `for` loop. It is necessary to use `resize_mat` for this write this function."
   ]
  },
  {
   "cell_type": "code",
   "execution_count": 179,
   "metadata": {},
   "outputs": [
    {
     "name": "stdout",
     "output_type": "stream",
     "text": [
      "[[ 1.  1.  1.]\n",
      " [ 2.  1.  2.]\n",
      " [-1.  0.  3.]]\n",
      "True\n"
     ]
    }
   ],
   "source": [
    "def aux(A):\n",
    "    Res = A\n",
    "    V = np.identity(len(A))\n",
    "    for i in range(len(A) - 1):\n",
    "        T = compute_T(Res, i)\n",
    "        Res = resize_mat(T, len(Res)) @ Res\n",
    "        V = resize_mat(T, len(V)) @ V\n",
    "    return Res, V\n",
    "\n",
    "def decompose(A):\n",
    "    U, V  = aux(A)\n",
    "    return U, V.T\n",
    "\n",
    "U, V = decompose(A)\n",
    "print(A)\n",
    "print(np.max(np.abs(A - V @ U) < 1E-5))\n",
    "\n"
   ]
  },
  {
   "cell_type": "markdown",
   "metadata": {
    "lang": "en"
   },
   "source": [
    "### Question 6\n",
    "\n",
    "Indicate the property (ies) of my matrix V (2nd matrix returned by `decompose`):\n",
    "\n",
    "* Triangular\n",
    "* Tri-diagonal\n",
    "* Symmetrical\n",
    "* Orthogonal"
   ]
  },
  {
   "cell_type": "code",
   "execution_count": null,
   "metadata": {},
   "outputs": [],
   "source": []
  }
 ],
 "metadata": {
  "kernelspec": {
   "display_name": "Python 3.10.6 64-bit",
   "language": "python",
   "name": "python3"
  },
  "language_info": {
   "codemirror_mode": {
    "name": "ipython",
    "version": 3
   },
   "file_extension": ".py",
   "mimetype": "text/x-python",
   "name": "python",
   "nbconvert_exporter": "python",
   "pygments_lexer": "ipython3",
   "version": "3.10.6"
  },
  "nbTranslate": {
   "displayLangs": [
    "en",
    "fr"
   ],
   "hotkey": "alt-t",
   "langInMainMenu": true,
   "sourceLang": "fr",
   "targetLang": "en",
   "useGoogleTranslate": true
  },
  "vscode": {
   "interpreter": {
    "hash": "fb4569285eef3a3450cb62085a5b1e0da4bce0af555edc33dcf29baf3acc1368"
   }
  }
 },
 "nbformat": 4,
 "nbformat_minor": 2
}
